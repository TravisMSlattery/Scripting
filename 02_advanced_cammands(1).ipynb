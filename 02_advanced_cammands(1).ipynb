{
 "cells": [
  {
   "cell_type": "markdown",
   "metadata": {},
   "source": [
    "# [arguments](http://mywiki.wooledge.org/Arguments), [Word Splitting](http://mywiki.wooledge.org/WordSplitting), and  [Quotes](http://mywiki.wooledge.org/Quotes)<br/>"
   ]
  },
  {
   "cell_type": "markdown",
   "metadata": {},
   "source": [
    "# [read](http://www.linuxcommand.org/lc3_man_pages/readh.html) [options] [text] [variable(s)]\n",
    "<em>read</em> get input from STDIN\n",
    "\n",
    "|Option|Action|\n",
    "|:--|:--|\n",
    "|-p text|Display the text as a prompt to the user|\n",
    "|-s|don't echo the user entered text to STDOUT|\n",
    "|-a|store all user entered data in an array|\n",
    "|-n N|limit of N characters are read|\n",
    "|-t T|data must be entered and return pressed within T seconds|\n",
    "\n",
    "\n",
    "Notes:\n",
    "- data will be stored in a variable called REPLY unless you provide your own variable name\n",
    "- multiple data items can be stored in a matching number of variables"
   ]
  },
  {
   "cell_type": "code",
   "execution_count": null,
   "metadata": {},
   "outputs": [],
   "source": [
    "name=owen"
   ]
  },
  {
   "cell_type": "code",
   "execution_count": null,
   "metadata": {},
   "outputs": [],
   "source": [
    "# HERE variable\n",
    "read <<< $name\n",
    "echo $REPLY"
   ]
  },
  {
   "cell_type": "raw",
   "metadata": {},
   "source": [
    "# without a prompt\n",
    "read"
   ]
  },
  {
   "cell_type": "raw",
   "metadata": {},
   "source": [
    "# REPLY is the default variable for storing the data from the read\n",
    "echo $REPLY"
   ]
  },
  {
   "cell_type": "raw",
   "metadata": {},
   "source": [
    "# using a variable\n",
    "read yourname "
   ]
  },
  {
   "cell_type": "raw",
   "metadata": {},
   "source": [
    "echo $yourname"
   ]
  },
  {
   "cell_type": "raw",
   "metadata": {},
   "source": [
    "# using a prompt and a variable\n",
    "read -p \"Please enter your name: \" fname "
   ]
  },
  {
   "cell_type": "raw",
   "metadata": {},
   "source": [
    "echo $fname"
   ]
  },
  {
   "cell_type": "raw",
   "metadata": {},
   "source": [
    "# silent\n",
    "read -s -p \"Please enter your password: \" my_pass\n",
    "echo $my_pass"
   ]
  },
  {
   "cell_type": "raw",
   "metadata": {},
   "source": [
    "read -n 6 -p \"Please enter a user name (max 6 chars): \" user_name\n",
    "echo $user_name"
   ]
  },
  {
   "cell_type": "raw",
   "metadata": {},
   "source": [
    "# A HERE doc can be read into a variable\n",
    "read -r -d '' VAR << 'EOF'\n",
    "abc'asdf\"\n",
    "$(dont-execute-this)\n",
    "foo\"bar\"''\n",
    "EOF"
   ]
  },
  {
   "cell_type": "raw",
   "metadata": {},
   "source": [
    "# Always double-quote variable expansion\n",
    "echo \"$VAR\""
   ]
  },
  {
   "cell_type": "raw",
   "metadata": {},
   "source": [
    "# If you want to use indentation for readability in the source code, use a dash after the less-thans. \n",
    "# The indentation must be done using only tabs (no spaces).\n",
    "read -r -d '' VAR <<- 'EOF'\n",
    "    abc'asdf\"\n",
    "    $(dont-execute-this)\n",
    "    foo\"bar\"''\n",
    "EOF"
   ]
  },
  {
   "cell_type": "markdown",
   "metadata": {},
   "source": [
    "# ln \n",
    "\n",
    "create a soft or hard link<br/>\n",
    "\n",
    "Usage:    \n",
    "ln <em>target</em> <em>linkname</em>\n",
    "\n",
    "Notes:\n",
    "- a hard link is a new file that links to the same inode as an existing (target) file\n",
    "- a soft link is like a shortcut. It appears as an l in the permissions (ls -l linkname)"
   ]
  },
  {
   "cell_type": "raw",
   "metadata": {},
   "source": [
    "touch target\n",
    "ln target hlink \n",
    "# now both files have the same inode"
   ]
  },
  {
   "cell_type": "raw",
   "metadata": {},
   "source": [
    "# to delete all files with a particular inode\n",
    "ls -li filename  # shows the inode number\n",
    "find . -inum inode_number -exec rm -i {} \\;"
   ]
  },
  {
   "cell_type": "raw",
   "metadata": {},
   "source": [
    "# Exercise\n",
    "1.\n",
    "Use which to find out where the javac link is\n",
    "\n",
    "2. Is the javac link a hard or soft one?\n",
    "\n",
    "3. Where, ultimately, is the executable that runs when javac is called?"
   ]
  },
  {
   "cell_type": "markdown",
   "metadata": {},
   "source": [
    "# stat fileitem\n",
    "Show how many links an inode has"
   ]
  },
  {
   "cell_type": "raw",
   "metadata": {},
   "source": [
    "stat target"
   ]
  },
  {
   "cell_type": "code",
   "execution_count": null,
   "metadata": {},
   "outputs": [],
   "source": [
    "# set\n",
    "set a balloon climbed directly\n",
    "echo $#\n",
    "echo $2  $4\n",
    "IFS=$'&\\ \\t'  # the first character in the IFS is special\n",
    "echo $@\n",
    "echo \"$*\""
   ]
  },
  {
   "cell_type": "markdown",
   "metadata": {},
   "source": [
    "# Export [var]\n",
    "<em>export</em> is used to share data with a subprocess"
   ]
  },
  {
   "cell_type": "raw",
   "metadata": {},
   "source": [
    "name=\"owen mackessy\"\n",
    "echo $name\n",
    "bash        # spawn a new sub/dhild-process\n",
    "echo $name  # displays nothing because name is not a variable in the subprocess\n",
    "exit        # return to parent process\n",
    "export name\n",
    "bash        # spawn another new subprocess\n",
    "echo $name  # now displays owen mackessy"
   ]
  },
  {
   "cell_type": "markdown",
   "metadata": {},
   "source": [
    "# cut [options] [filename]\n",
    "can cut a file based on fields, characters, nad bytes\n",
    "you can specify a delimeter other than the default of tab"
   ]
  },
  {
   "cell_type": "raw",
   "metadata": {},
   "source": [
    "cut -f 1,3 -d ':' /etc/passwd  # f(ield), -d is delimeter\n",
    "cut -c 1-4 /etc/passwd         # c(haracter)\n",
    "cut -b 1-4 /etc/passwd         # b(yte)"
   ]
  },
  {
   "cell_type": "code",
   "execution_count": null,
   "metadata": {},
   "outputs": [],
   "source": [
    "cat << EOF > testdata.dat\n",
    "apple,ball,curtain\n",
    "d🐐esk,ejit,footpath\n",
    "ghost,hickory,indignant\n",
    "rhythm\n",
    "EOF\n",
    "\n",
    "cut -f 2 -d ',' testdata.dat   # select the second field\n",
    "cut -c 1-4,6-10 testdata.dat   # select chars 1 to 4 and 6 to 10\n",
    "cut -b 1-10 testdata.dat       # select bytes 1 to 10\n",
    "\n",
    "# Note: in plain (ascii) files there will generally be no difference between chara and \n",
    "# byte which is why I have included the dog emoji above"
   ]
  },
  {
   "cell_type": "code",
   "execution_count": null,
   "metadata": {},
   "outputs": [],
   "source": [
    "# grep : gnu regular expression parser\n",
    "grep '🐐' testdata.dat\n",
    "grep -i testdata.dat"
   ]
  },
  {
   "cell_type": "code",
   "execution_count": null,
   "metadata": {},
   "outputs": [],
   "source": [
    "# git clone https://github.com/pallets/flask.git\n",
    "\n",
    "grep -n -r Werkzeug flask/"
   ]
  },
  {
   "cell_type": "code",
   "execution_count": null,
   "metadata": {},
   "outputs": [],
   "source": [
    "# line beginning with a\n",
    "grep ^a testdata.dat"
   ]
  },
  {
   "cell_type": "code",
   "execution_count": null,
   "metadata": {},
   "outputs": [],
   "source": [
    "# line ending with h\n",
    "grep h$ testdata.dat"
   ]
  },
  {
   "cell_type": "code",
   "execution_count": null,
   "metadata": {},
   "outputs": [],
   "source": [
    "# a line with oo\n",
    "grep oo --color testdata.dat"
   ]
  },
  {
   "cell_type": "code",
   "execution_count": null,
   "metadata": {},
   "outputs": [],
   "source": [
    "# line with oo and displaying line number (due to -n option)\n",
    "grep -n oo testdata.dat"
   ]
  },
  {
   "cell_type": "code",
   "execution_count": null,
   "metadata": {},
   "outputs": [],
   "source": [
    "# lines containing any vowel\n",
    "grep [aeiou] --color testdata.dat"
   ]
  },
  {
   "cell_type": "code",
   "execution_count": null,
   "metadata": {},
   "outputs": [],
   "source": [
    "# lines not containing a vowel\n",
    "grep [^aeiou] --color testdata.dat"
   ]
  },
  {
   "cell_type": "code",
   "execution_count": null,
   "metadata": {},
   "outputs": [],
   "source": [
    "# egrep is extended grep.\n",
    "egrep [aeiou]{2} --color testdata.dat"
   ]
  },
  {
   "cell_type": "code",
   "execution_count": null,
   "metadata": {},
   "outputs": [],
   "source": [
    "# line with either urt or ant\n",
    "egrep 'urt|ant' --color testdata.dat"
   ]
  },
  {
   "cell_type": "code",
   "execution_count": null,
   "metadata": {},
   "outputs": [],
   "source": [
    "# match D or d followed by 'ol'\n",
    "echo \"Doll doll\" | grep --color '[Dd]ol'"
   ]
  },
  {
   "cell_type": "code",
   "execution_count": null,
   "metadata": {},
   "outputs": [],
   "source": [
    "create a file with comments\n",
    "\n",
    "cat <<- EOF > deleteme.py\n",
    "# this file does nothing\n",
    "# it has too many comments\n",
    "def speak():\n",
    "    print(\"Hi!\")\n",
    "EOF\n"
   ]
  },
  {
   "cell_type": "code",
   "execution_count": null,
   "metadata": {},
   "outputs": [],
   "source": [
    "# search for lines that are not commented out\n",
    "# The carat inside the square brackets means ' match lines that don't have this\n",
    "# the carat to left of [] means 'the linemust begin with'\n",
    "\n",
    "grep \"^[^#]\" deleteme.py"
   ]
  },
  {
   "cell_type": "code",
   "execution_count": null,
   "metadata": {},
   "outputs": [],
   "source": [
    "# -v will invert pattern matches\n",
    "grep -v \"^[^#]\" deleteme.py"
   ]
  },
  {
   "cell_type": "code",
   "execution_count": null,
   "metadata": {},
   "outputs": [],
   "source": [
    "ps aux | grep bash"
   ]
  },
  {
   "cell_type": "code",
   "execution_count": null,
   "metadata": {},
   "outputs": [],
   "source": [
    "curl www.ittralee.ie > itt_index.html"
   ]
  },
  {
   "cell_type": "code",
   "execution_count": null,
   "metadata": {},
   "outputs": [],
   "source": [
    "grep [Tt]ralee --color itt_index.html"
   ]
  },
  {
   "cell_type": "code",
   "execution_count": null,
   "metadata": {},
   "outputs": [],
   "source": [
    "# sed: Stream Editor\n",
    "\n",
    "echo \"today is the day\" | sed 's/day/night/g'"
   ]
  },
  {
   "cell_type": "code",
   "execution_count": null,
   "metadata": {},
   "outputs": [],
   "source": [
    "cat <<- EOF | sed s/hello/goodnight/g\n",
    "It's \n",
    "hello\n",
    "from me\n",
    "and hello \n",
    "from him\n",
    "EOF"
   ]
  },
  {
   "cell_type": "code",
   "execution_count": null,
   "metadata": {},
   "outputs": [],
   "source": [
    "# sed -i option edits in-place\n",
    "\n",
    "cat <<- EOF > ronnies.txt\n",
    "It's \n",
    "hello\n",
    "from me\n",
    "and hello \n",
    "from him\n",
    "EOF\n",
    "\n",
    "cat ronnies.txt\n",
    "sed -i 's/hello/goodnight/g' ronnies.txt\n",
    "cat ronnies.txt"
   ]
  },
  {
   "cell_type": "code",
   "execution_count": null,
   "metadata": {},
   "outputs": [],
   "source": [
    "source=\"site.org?day=7&name=adam&fruit=apple\"\n",
    "echo \"$source\"\n",
    "echo \"$source\" | grep \"\\?day=(\\d)&name=([^&]+)&fruit=(\\w+)\" \n",
    "echo $day"
   ]
  },
  {
   "cell_type": "code",
   "execution_count": null,
   "metadata": {},
   "outputs": [],
   "source": [
    "date\n",
    "echo \"$(date)\" | cut -d \" \" -f 3\n",
    "echo $(date) | cut -d \" \" -f 3"
   ]
  },
  {
   "cell_type": "code",
   "execution_count": null,
   "metadata": {},
   "outputs": [],
   "source": [
    "printf \" <%s>\" $(date)"
   ]
  },
  {
   "cell_type": "code",
   "execution_count": null,
   "metadata": {},
   "outputs": [],
   "source": [
    "# piping and redirection\n",
    "\n",
    "echo \"sentence\" | wc -c\n",
    "echo -n \"sentence\" | wc -c\n",
    "ps aux | grep init\n",
    "\n",
    "name=owen\n",
    "cat <<< \"$name\"  a *here* string\n",
    "\n",
    "cat < data.csv\n",
    "\n",
    "((7++)) 2> /dev/null"
   ]
  },
  {
   "cell_type": "code",
   "execution_count": null,
   "metadata": {},
   "outputs": [],
   "source": [
    "# sudo/dnf|apt"
   ]
  },
  {
   "cell_type": "raw",
   "metadata": {},
   "source": [
    "cat"
   ]
  },
  {
   "cell_type": "code",
   "execution_count": null,
   "metadata": {},
   "outputs": [],
   "source": [
    "# alias\n",
    "#alias name=\"command_to_alias\"\n",
    "alias ps=\"ps aux\"\n",
    "ps | head -5\n",
    "unalias"
   ]
  },
  {
   "cell_type": "code",
   "execution_count": null,
   "metadata": {},
   "outputs": [],
   "source": [
    "# display the pid of the current process\n",
    "echo $$"
   ]
  },
  {
   "cell_type": "code",
   "execution_count": null,
   "metadata": {},
   "outputs": [],
   "source": [
    "# environment variables\n",
    "set"
   ]
  },
  {
   "cell_type": "markdown",
   "metadata": {},
   "source": [
    "# Word Splitting\n",
    "The order of expansions is: brace expansion, tilde expansion, parameter, variable and arithmetic expansion and command substitution (done in a left-to-right fashion), word splitting, and pathname expansion.\n",
    "\n",
    "Word splitting is performed on the results of almost all unquoted expansions. The result of the expansion is broken into separate words based on the characters of the IFS variable"
   ]
  },
  {
   "cell_type": "code",
   "execution_count": null,
   "metadata": {},
   "outputs": [],
   "source": [
    "set hello world \"how are you?\"\n",
    "printf \"<%s> \" \"$@\""
   ]
  },
  {
   "cell_type": "markdown",
   "metadata": {},
   "source": [
    "# Piping\n",
    "Sends the output of one command to the input of another<br/>\n",
    "cmd1 | cmd2"
   ]
  },
  {
   "cell_type": "code",
   "execution_count": null,
   "metadata": {},
   "outputs": [],
   "source": [
    "echo $PATH"
   ]
  },
  {
   "cell_type": "code",
   "execution_count": null,
   "metadata": {},
   "outputs": [],
   "source": [
    "echo $PATH | sed s'/:/\\n/g'"
   ]
  },
  {
   "cell_type": "markdown",
   "metadata": {},
   "source": [
    "# [Redirection](https://wiki.bash-hackers.org/howto/redirection_tutorial)\n",
    "\n",
    "|symbol|action|\n",
    "|:--|:--|\n",
    "|cmd > file| sends output of cmd to file, overwriting contents. Dpends on noclobber|\n",
    "|cmd >\\| file| sends output of cmd to file, overwriting contents, regardless of noclobber|\n",
    "|cmd >> file| appends output of cmd to file|\n",
    "|cmd < file| sends contents of file to cmd|\n",
    "|cmd 2> file| sends error messages to file, overwriting contents. Depends on noclobber|\n",
    "|cmd 2>&1 file| sends all output to file, overwriting contents. Depends on noclobber|\n",
    "\n",
    "Changing STDIN, STDOUT, and.or STDERR from the defaults<br/>\n",
    "STDIN (0), STDOUT(1), and STDERR(2) are three channels for data flow<br/>\n",
    "Standard input - this is the file handle that your process reads to get information from you.<br/>\n",
    "Standard output - your process writes normal information to this file handle.<br/>\n",
    "Standard error - your process writes error information to this file handle<br/>\n",
    "    \n",
    "Note: 0,1,ans 2 are called file descriptors    \n",
    "2>&1 only changes FD2 to point to \"that which FD1 points to at the moment\""
   ]
  },
  {
   "cell_type": "code",
   "execution_count": 10,
   "metadata": {},
   "outputs": [
    {
     "name": "stdout",
     "output_type": "stream",
     "text": [
      "hello\n"
     ]
    }
   ],
   "source": [
    "echo \"hello\" > afile.txt # redirects stdout to a file\n",
    "cat < afile.txt             # redirects stdin from a file (stupid example... I know, but you'll see it done a lot)\n",
    "\n",
    "((++)) 2> /dev/null  # redirecting stderr to the bit bucket\n",
    "# or\n",
    "((++)) 2>> error.file # using >> will append to file"
   ]
  },
  {
   "cell_type": "code",
   "execution_count": 15,
   "metadata": {},
   "outputs": [
    {
     "ename": "",
     "evalue": "1",
     "output_type": "error",
     "traceback": []
    }
   ],
   "source": [
    "number=a\n",
    "((++)) 2> errfile "
   ]
  },
  {
   "cell_type": "code",
   "execution_count": 16,
   "metadata": {},
   "outputs": [
    {
     "name": "stdout",
     "output_type": "stream",
     "text": [
      "bash: ((: ++: syntax error: operand expected (error token is \"+\")\n"
     ]
    }
   ],
   "source": [
    "cat errfile"
   ]
  },
  {
   "cell_type": "code",
   "execution_count": 21,
   "metadata": {},
   "outputs": [
    {
     "name": "stdout",
     "output_type": "stream",
     "text": [
      "bash: afile: cannot overwrite existing file\n",
      "bash: afile: cannot overwrite existing file\n",
      "bash: afile: cannot overwrite existing file\n"
     ]
    }
   ],
   "source": [
    "#noclobber\n",
    "echo \"hello\" > afile\n",
    "set -o noclobber\n",
    "echo \"hello\" > afile\n",
    "echo \"hello\" > afile  2>&1 /dev/null  # suppresses error messages \n",
    "echo \"hello\" >| afile   # overwrites the file regardless of the noclober setting\n",
    "set +o noclobber        # enable clobbering\n",
    "echo \"hello\" > afile    "
   ]
  },
  {
   "cell_type": "code",
   "execution_count": null,
   "metadata": {},
   "outputs": [],
   "source": []
  }
 ],
 "metadata": {
  "kernelspec": {
   "display_name": "Bash",
   "language": "bash",
   "name": "bash"
  },
  "language_info": {
   "codemirror_mode": "shell",
   "file_extension": ".sh",
   "mimetype": "text/x-sh",
   "name": "bash"
  }
 },
 "nbformat": 4,
 "nbformat_minor": 2
}
