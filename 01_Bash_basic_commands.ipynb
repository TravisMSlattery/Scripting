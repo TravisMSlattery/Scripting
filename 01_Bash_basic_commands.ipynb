{
 "cells": [
  {
   "cell_type": "markdown",
   "metadata": {
    "deletable": true,
    "editable": true
   },
   "source": [
    "### Here are some of the more commonly used bash [commands](https://ss64.com/bash/man.html)\n",
    "* cd \n",
    "* mv      \n",
    "* mkdir  -p\n",
    "* ls   -l, -a, -al, -, ~\n",
    "* echo  \n",
    "* pwd\n",
    "* ps   (aux)\n",
    "* kill (-9)\n",
    "* which"
   ]
  },
  {
   "cell_type": "code",
   "execution_count": null,
   "metadata": {
    "collapsed": false,
    "deletable": true,
    "editable": true
   },
   "outputs": [],
   "source": [
    "# Just a helper function for display. Ignore this!\n",
    "currfold(){\n",
    "  echo \":: Now in $(pwd)\"\n",
    "}"
   ]
  },
  {
   "cell_type": "code",
   "execution_count": null,
   "metadata": {
    "collapsed": false,
    "deletable": true,
    "editable": true
   },
   "outputs": [],
   "source": [
    "echo \"1. cd ~  # takes you to your home folder\"\n",
    "cd ~\n",
    "currfold 1\n",
    "\n",
    "echo \"2. cd /  # takes you to root\"\n",
    "cd /\n",
    "currfold\n",
    "\n",
    "echo '3. cd -  # takes you to previous folder.'\n",
    "cd -\n",
    "currfold\n",
    "\n",
    "echo \"4. cd ~  # takes you to home folder\"\n",
    "currfold\n",
    "\n",
    "echo \"5. cd ..  # takes you to the parent folder of the current folder\"\n",
    "cd ..\n",
    "currfold\n",
    "\n",
    "echo \"6. cd ../..  # takes you to the parent's parent folder\"\n",
    "cd ../..\n",
    "currfold "
   ]
  },
  {
   "cell_type": "code",
   "execution_count": null,
   "metadata": {
    "collapsed": false,
    "deletable": true,
    "editable": true
   },
   "outputs": [],
   "source": [
    "# ls lists the contents of a file\n",
    "ls"
   ]
  },
  {
   "cell_type": "code",
   "execution_count": null,
   "metadata": {
    "collapsed": false,
    "deletable": true,
    "editable": true
   },
   "outputs": [],
   "source": [
    "# ls -a, also shows hidden files (files & folders whose \n",
    "# name begins with a dot)\n",
    "ls -a"
   ]
  },
  {
   "cell_type": "code",
   "execution_count": null,
   "metadata": {
    "collapsed": false,
    "deletable": true,
    "editable": true
   },
   "outputs": [],
   "source": [
    "# ls -l, shows files & folders in the long format\n",
    "ls -l"
   ]
  },
  {
   "cell_type": "code",
   "execution_count": null,
   "metadata": {
    "collapsed": false,
    "deletable": true,
    "editable": true,
    "scrolled": true
   },
   "outputs": [],
   "source": [
    "# You don't have to be in a folder to check its contents\n",
    "cd ~\n",
    "\n",
    "echo \"I am in \"$(pwd)\"\"\n",
    "ls ../"
   ]
  },
  {
   "cell_type": "code",
   "execution_count": null,
   "metadata": {
    "collapsed": false,
    "deletable": true,
    "editable": true
   },
   "outputs": [],
   "source": [
    "# create a subfolder\n",
    "mkdir new_folder\n",
    "cd new_folder\n",
    "pwd"
   ]
  },
  {
   "cell_type": "code",
   "execution_count": null,
   "metadata": {
    "collapsed": false,
    "deletable": true,
    "editable": true
   },
   "outputs": [],
   "source": [
    "# SETUP START\n",
    "# create parent folders if they don't already exist\n",
    "cd ~\n",
    "\n",
    "mkdir sandbox\n",
    "cd sandbox\n",
    "pwd\n",
    "\n",
    "mkdir -p a/b/c/d/e\n",
    "# SETUP END\n",
    "\n",
    "cd a/b/c/d/e\n",
    "pwd\n",
    "\n",
    "echo \"Go back up the structure...\"\n",
    "cd ../../../../../\n",
    "echo \"Are we there yet?\"\n",
    "pwd\n",
    "\n",
    "mkdir deleteme{10..19}\n",
    "ls delete*\n",
    "\n",
    "rm -rf deletem*\n",
    "ls"
   ]
  },
  {
   "cell_type": "code",
   "execution_count": null,
   "metadata": {
    "collapsed": false,
    "deletable": true,
    "editable": true
   },
   "outputs": [],
   "source": [
    "# create multiple folders at once\n",
    "mkdir start end\n",
    "ls"
   ]
  },
  {
   "cell_type": "code",
   "execution_count": null,
   "metadata": {
    "collapsed": false,
    "deletable": true,
    "editable": true
   },
   "outputs": [],
   "source": [
    "# create a file in the start folder\n",
    "touch start/newFile\n",
    "ls **"
   ]
  },
  {
   "cell_type": "code",
   "execution_count": null,
   "metadata": {
    "collapsed": false,
    "deletable": true,
    "editable": true
   },
   "outputs": [],
   "source": [
    "# move the file\n",
    "mv start/newFile end\n",
    "ls *"
   ]
  },
  {
   "cell_type": "code",
   "execution_count": null,
   "metadata": {
    "collapsed": false,
    "deletable": true,
    "editable": true
   },
   "outputs": [],
   "source": [
    "# delete a file\n",
    "rm end/newFile\n",
    "\n",
    "ls **"
   ]
  },
  {
   "cell_type": "code",
   "execution_count": null,
   "metadata": {
    "collapsed": false,
    "deletable": true,
    "editable": true
   },
   "outputs": [],
   "source": [
    "# delete the folders\n",
    "rmdir end start\n",
    "ls **"
   ]
  },
  {
   "cell_type": "code",
   "execution_count": null,
   "metadata": {
    "collapsed": false,
    "deletable": true,
    "editable": true
   },
   "outputs": [],
   "source": [
    "ls *"
   ]
  },
  {
   "cell_type": "code",
   "execution_count": null,
   "metadata": {
    "collapsed": false,
    "deletable": true,
    "editable": true
   },
   "outputs": [],
   "source": [
    "# What processes are running\n",
    "ps"
   ]
  },
  {
   "cell_type": "code",
   "execution_count": null,
   "metadata": {
    "collapsed": false,
    "deletable": true,
    "editable": true
   },
   "outputs": [],
   "source": [
    "# create a new process (in the background), find it's PID and kill it\n",
    "echo \"Before new  bash process starts...\"\n",
    "ps\n",
    "\n",
    "bash &\n",
    "\n",
    "echo \"After new bash process has started...\"\n",
    "ps\n"
   ]
  },
  {
   "cell_type": "code",
   "execution_count": null,
   "metadata": {
    "collapsed": false,
    "deletable": true,
    "editable": true
   },
   "outputs": [],
   "source": [
    "kill -9 4265\n",
    "\n",
    "echo \"After the process has been killed\"\n",
    "ps"
   ]
  },
  {
   "cell_type": "code",
   "execution_count": null,
   "metadata": {
    "collapsed": false,
    "deletable": true,
    "editable": true
   },
   "outputs": [],
   "source": [
    "ps\n",
    "read &\n",
    "ps"
   ]
  },
  {
   "cell_type": "code",
   "execution_count": null,
   "metadata": {
    "collapsed": false,
    "deletable": true,
    "editable": true
   },
   "outputs": [],
   "source": [
    "ps"
   ]
  },
  {
   "cell_type": "code",
   "execution_count": null,
   "metadata": {
    "collapsed": false,
    "deletable": true,
    "editable": true
   },
   "outputs": [],
   "source": [
    "kill -9 4271"
   ]
  },
  {
   "cell_type": "code",
   "execution_count": null,
   "metadata": {
    "collapsed": false,
    "deletable": true,
    "editable": true
   },
   "outputs": [],
   "source": [
    "# which tells you the location of an executable \n",
    "which ls\n",
    "which pwd\n",
    "which [   # [ is a bash program, it tests if something is true or false"
   ]
  },
  {
   "cell_type": "code",
   "execution_count": null,
   "metadata": {
    "collapsed": false,
    "deletable": true,
    "editable": true
   },
   "outputs": [],
   "source": [
    "# Using the output of command expansion as an argument to a command\n",
    "ls -l $(which ls)"
   ]
  },
  {
   "cell_type": "markdown",
   "metadata": {
    "collapsed": true,
    "deletable": true,
    "editable": true
   },
   "source": [
    "### Exercises\n",
    "##### Assuming you are starting in your home folder\n",
    "1. In a single statement, create three subfolders of the current folder called sub1, sub2, and sub3\n",
    "2. change directory into root and issue a command that proves you are in root\n",
    "3. write a command that takes you from root to home folder without typing the path to the home folder\n",
    "4. What is the absoolute path to your home folder\n",
    "5. change directory to the sub1 folder\n",
    "6. what two items are the only contents of the home folder\n",
    "7. from the sub1 folder, create a file in the sub2 folder, without changing into the sub2 folder\n",
    "8. From sub1, issue a command that lists the entire contents of sub2\n",
    "9. from sub1, create a hidden folder in sub3\n",
    "10. without changing into sub3 show its entire contents\n",
    "11. what does the command ps do?\n",
    "12. read the man pages for ps to determine what ps aux does\n",
    "13. Explain the 'which' command in bash\n",
    "14. What is the difference between 'gedit' and 'gedit &'\n",
    "15. When a command is issued with a trailing ampersand (&) a number is displayed on screen. What does the number represent.\n",
    "16. What does the 'kill' command do\n",
    "17. Explain how to kill a process in bash\n",
    "18. What is the difference between 'mkdir' and 'mkdir -p'\n",
    "19. What does the command pwd do\n",
    "20. What does the command 'cd $(which ls) do\n",
    "21. Explain the output of the command 'ls -al' in detail\n",
    "22. Why should you never iterate over files using the output of the ls command as follows:    \n",
    "    \n",
    "\n",
    "    for item in $(ls)     \n",
    "    do    \n",
    "        echo \"$item\"    \n",
    "    done"
   ]
  },
  {
   "cell_type": "code",
   "execution_count": null,
   "metadata": {
    "collapsed": true,
    "deletable": true,
    "editable": true
   },
   "outputs": [],
   "source": []
  }
 ],
 "metadata": {
  "anaconda-cloud": {},
  "kernelspec": {
   "display_name": "Bash",
   "language": "bash",
   "name": "bash"
  },
  "language_info": {
   "codemirror_mode": "shell",
   "file_extension": ".sh",
   "mimetype": "text/x-sh",
   "name": "bash"
  }
 },
 "nbformat": 4,
 "nbformat_minor": 2
}
