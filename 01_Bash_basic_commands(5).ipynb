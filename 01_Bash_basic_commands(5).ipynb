{
 "cells": [
  {
   "cell_type": "markdown",
   "metadata": {},
   "source": [
    "### Here are some of the more commonly used bash [commands](https://ss64.com/bash/man.html)\n",
    "* cd \n",
    "* mv      \n",
    "* mkdir  -p\n",
    "* ls   -l, -a, -al, -, ~\n",
    "* echo  \n",
    "* pwd\n",
    "* ps   (aux)\n",
    "* kill (-9)\n",
    "* which"
   ]
  },
  {
   "cell_type": "markdown",
   "metadata": {},
   "source": [
    "# The bash comment\n",
    "\\# is a single line comment in bash"
   ]
  },
  {
   "cell_type": "markdown",
   "metadata": {},
   "source": [
    "# The <em>cd</em> command\n",
    "## cd [pathname]\n",
    "A pathname can either be:\n",
    "<ul>\n",
    "    <li> be <b>absolute</b> (starting with a /, or)</li>\n",
    "    <li> be <b>relative</b> (doesn't start with a /)>/li>\n",
    "</ul>\n",
    "\n",
    "An absolute path will take you to a specific point on every target machine.<br/>\n",
    "A relative path can be convenient, especially during an installation process where a define directory structure is being used\n",
    "\n",
    "| Command      | Action           | \n",
    "|:------------- |:------------| \n",
    "| cd | takes you to your home directory | \n",
    "| cd -| takes you to your previous directory|  \n",
    "| cd ..| takes you to the parent directory|  \n",
    "|cd ../..[/..] | and can be repeated to go further <br/>up the hierarchy towards the top level <br/>directory|\n",
    "|cd name|takes you into a sub directory called name|\n",
    "|cd /name|takes you to the top level directory|\n",
    "|cd ~|takes you to your home directory|\n",
    "\n",
    "<<b>Notes</b>\n",
    "<ul>\n",
    "    <li>If you want to have multiple directories in the path then the path must start with either  .., ~, /, or a name </li>\n",
    "</ul>"
   ]
  },
  {
   "cell_type": "markdown",
   "metadata": {},
   "source": [
    "Change the command prompt to display the fully qualified pathname followed by a '\\$' symbol:    \n",
    "\n",
    "<br/>\n",
    "PS1='\\w\\$ '"
   ]
  },
  {
   "cell_type": "code",
   "execution_count": null,
   "metadata": {},
   "outputs": [],
   "source": [
    "# Enter the following commands and watch what happens to the command prompt\n",
    "# You can run the cells or type the commands at the command line, or do both (recommended)\n",
    "\n",
    "# cd ~  # takes you to your home folder\"\n",
    "cd ~\n",
    "pwd"
   ]
  },
  {
   "cell_type": "code",
   "execution_count": null,
   "metadata": {},
   "outputs": [],
   "source": [
    "# cd /  # takes you to root\"\n",
    "cd /\n",
    "pwd"
   ]
  },
  {
   "cell_type": "code",
   "execution_count": null,
   "metadata": {},
   "outputs": [],
   "source": [
    "# cd -  # takes you to previous folder.'\n",
    "cd -\n",
    "pwd"
   ]
  },
  {
   "cell_type": "code",
   "execution_count": null,
   "metadata": {},
   "outputs": [],
   "source": [
    "# cd ~  # takes you to home folder\"\n",
    "pwd"
   ]
  },
  {
   "cell_type": "code",
   "execution_count": null,
   "metadata": {},
   "outputs": [],
   "source": [
    "# cd ..  # takes you to the parent folder of the current folder\"\n",
    "cd ..\n",
    "pwd"
   ]
  },
  {
   "cell_type": "code",
   "execution_count": null,
   "metadata": {},
   "outputs": [],
   "source": [
    "# cd ../..  # takes you to the parent's parent folder\"\n",
    "cd ../..\n",
    "pwd"
   ]
  },
  {
   "cell_type": "code",
   "execution_count": null,
   "metadata": {},
   "outputs": [],
   "source": [
    "# return to home folder before looking at ls\n",
    "cd ~"
   ]
  },
  {
   "cell_type": "markdown",
   "metadata": {},
   "source": [
    "# ls\n",
    "The list command.     \n",
    "Usage: \n",
    "ls [option] [path]\n",
    "\n",
    "Notes:\n",
    "<ul>\n",
    "    <li>The path may be a glob. More on [globbing](https://www.tldp.org/LDP/abs/html/globbingref.html) later in the module)</li>\n",
    "    <li>review the command by typing <em>man ls</em> at the command prompt</li>\n",
    "    <li>Ensure default behaviour of ls by typing <em>unalias ls</em> before the following\n",
    "</ul>"
   ]
  },
  {
   "cell_type": "code",
   "execution_count": null,
   "metadata": {},
   "outputs": [],
   "source": [
    "unalias ls"
   ]
  },
  {
   "cell_type": "code",
   "execution_count": null,
   "metadata": {},
   "outputs": [],
   "source": [
    "# ls lists the contents of the current woriking directory\n",
    "ls"
   ]
  },
  {
   "cell_type": "code",
   "execution_count": null,
   "metadata": {},
   "outputs": [],
   "source": [
    "# ls -a, shows hidden files (files & folders whose \n",
    "# name begins with a dot)\n",
    "\n",
    "# -a is called 'an option'. Many linux commands have options\n",
    "ls -a"
   ]
  },
  {
   "cell_type": "code",
   "execution_count": null,
   "metadata": {
    "scrolled": false
   },
   "outputs": [],
   "source": [
    "# ls -l, shows files & folders in the long format\n",
    "ls -l"
   ]
  },
  {
   "cell_type": "raw",
   "metadata": {},
   "source": [
    "# Note the permissions for each item are specified as \n",
    "# the first item in the long format output of ls (i.e. ls -l)\n",
    "# A 'd' is used in the initial position to indicate a directory\n",
    "# The remaining nine positions are in groups of three.\n",
    "# The first of these three show the permissions for the user (i.e. you)\n",
    "# These can be changed using the chmod command which we will cover later\n",
    "\n",
    "drwxr-xr-x  22 t0001 t0001     12288 Jan 30 11:07  Downloads"
   ]
  },
  {
   "cell_type": "code",
   "execution_count": null,
   "metadata": {},
   "outputs": [],
   "source": [
    "# When you use wildcards with ls (e.g. ls d*) you are using a glob. Globbing can be \n",
    "# enabled or disabled, so ensure that it is set as you want it.\n",
    "# The command below (with globbing enabled) will display every file whose name begins with\n",
    "# d and will also display the contents of every directory whose name begins with d.\n",
    "\n",
    "set +o noglob  # allow globbing\n",
    "ls d*"
   ]
  },
  {
   "cell_type": "code",
   "execution_count": null,
   "metadata": {
    "scrolled": true
   },
   "outputs": [],
   "source": [
    "# You don't have to be in a folder to check its contents\n",
    "cd ~\n",
    "\n",
    "echo \"I am in \"$(pwd)\"\"\n",
    "ls ../"
   ]
  },
  {
   "cell_type": "code",
   "execution_count": null,
   "metadata": {},
   "outputs": [],
   "source": [
    "# options can be combined\n",
    "ls -alt"
   ]
  },
  {
   "cell_type": "markdown",
   "metadata": {},
   "source": [
    "# mkdir\n",
    "mkdir [options] path\n",
    "\n",
    "[man](https://linux.die.net/man/1/mkdir) mkdir"
   ]
  },
  {
   "cell_type": "code",
   "execution_count": null,
   "metadata": {},
   "outputs": [],
   "source": [
    "# create a subfolder called new_dir\n",
    "\n",
    "mkdir new_dir\n",
    "cd new_dir"
   ]
  },
  {
   "cell_type": "code",
   "execution_count": null,
   "metadata": {},
   "outputs": [],
   "source": [
    "cd ~    # go to your home directory\n",
    "mkdir sandbox\n",
    "cd sandbox\n",
    "pwd\n",
    "\n",
    "# create parent (using -p option) directories if they don't already exist\n",
    "# In this example we want to create all the directories on the path to e\n",
    "mkdir -p a/b/c/d/e"
   ]
  },
  {
   "cell_type": "code",
   "execution_count": null,
   "metadata": {},
   "outputs": [],
   "source": [
    "tree"
   ]
  },
  {
   "cell_type": "code",
   "execution_count": null,
   "metadata": {},
   "outputs": [],
   "source": [
    "# exercise:\n",
    "#1\n",
    "# Find out which directory you are in and change into the e directory \n",
    "#  that you have just created.\n",
    "\n",
    "#2\n",
    "# using tilde, change into the sandbox directory\n",
    "\n",
    "#3\n",
    "# Change into the c directory using its absolute address\n",
    "\n",
    "#4\n",
    "# using the .. (parent) link, change from c to b\n",
    "\n",
    "#5\n",
    "# create a new subdirectory of b called c_other\n",
    "\n",
    "# change into c_other and and using the .. link/reference, list the \n",
    "#  contents of the e directory"
   ]
  },
  {
   "cell_type": "markdown",
   "metadata": {},
   "source": [
    "# Brace Expansion\n",
    "\n",
    "|Unexpanded|Expands to..|Explanation|\n",
    "|:----|:----|:--|\n",
    "|{0..3}|0 1 2 3|starts at the first number and increments up to the second|\n",
    "|{0..6..2}|0 2 4 6|starts at the first number and increase by last number until midddle number reached|\n",
    "|{a..c}|a b c|starts at first letter and increases to second|\n",
    "|{a,b,c}|a b c|expands to be seperate values, usually used with something before or after {}|\n",
    "|{b,c,d}one|bone cone done|each item in the curly brace compines with the text one|\n",
    "\n",
    "brace expansion is used in a numberof ways by bash. One of the simplest uses is as an argument to echo or to control a for loop. It is often used to create a standard directory structure for a project. "
   ]
  },
  {
   "cell_type": "code",
   "execution_count": null,
   "metadata": {},
   "outputs": [],
   "source": [
    "echo {0..6..2}"
   ]
  },
  {
   "cell_type": "code",
   "execution_count": null,
   "metadata": {},
   "outputs": [],
   "source": [
    "echo {b,c,d}one"
   ]
  },
  {
   "cell_type": "code",
   "execution_count": null,
   "metadata": {},
   "outputs": [],
   "source": [
    "for num in {1..5}\n",
    "do\n",
    "   echo $num\n",
    "done"
   ]
  },
  {
   "cell_type": "code",
   "execution_count": null,
   "metadata": {},
   "outputs": [],
   "source": [
    "echo myproject/{bin,src,lib,test}"
   ]
  },
  {
   "cell_type": "code",
   "execution_count": null,
   "metadata": {},
   "outputs": [],
   "source": [
    "# Exercise\n",
    "#1.\n",
    "# Create a directory structure for a java project with the \n",
    "#  following folders bin, src, lib, and test\n",
    "\n",
    "#2.\n",
    "# create and display the following log1.txt log2.txt log3.txt log4.txt"
   ]
  },
  {
   "cell_type": "markdown",
   "metadata": {},
   "source": [
    "# Stopped 31/1/2020"
   ]
  },
  {
   "cell_type": "markdown",
   "metadata": {},
   "source": [
    "# touch [filename]\n",
    "the touch command will create an empty file."
   ]
  },
  {
   "cell_type": "code",
   "execution_count": null,
   "metadata": {},
   "outputs": [],
   "source": [
    "cd ~/sandbox\n",
    "tree a\n",
    "touch a/b/c/d/e/file.txt\n",
    "tree a"
   ]
  },
  {
   "cell_type": "code",
   "execution_count": null,
   "metadata": {},
   "outputs": [],
   "source": [
    "# Exercise\n",
    "#1\n",
    "# from the sandbox/myproject directory, create the following subdirectory structure\n",
    "# src/ie/ittralee/\n",
    "\n",
    "#2\n",
    "# from inside the ~/sandbox/myproject directory create (using the touch command) \n",
    "#  a file called Hello.java in the ~/sandbox/myproject/src/ie/ittralee/ directory\n",
    "\n",
    "#3\n",
    "# from inside the ~/sandbox/myproject directory verify that the Hello.java file\n",
    "# is not a directory, has permissions to read write and execute, and has a size\n",
    "# of zero bytes\n",
    "\n",
    "#4\n",
    "# From inside the ~/sandbox/myproject directory, verify visually that the \n",
    "#  Hello.java file exists"
   ]
  },
  {
   "cell_type": "markdown",
   "metadata": {},
   "source": [
    "# rm\n",
    "rm [options] filename\n",
    "\n",
    "|Option|Action|\n",
    "|:--|:--|\n",
    "|-f|forces removal (doesn't ask you to confirm the deletion|\n",
    "|-r|recursively deletes (will delete directories as well)|\n",
    "\n",
    "Notes:\n",
    "<ul>\n",
    "    <li>By default rm will not delete directories, use rmdir instead</li>\n",
    "    <li>If deleting multiple files using a glob, check the glob using echo beforehand</li>\n",
    "    <li>Be very careful when using rm -rf, it has ended careers</li>\n",
    "</ul>"
   ]
  },
  {
   "cell_type": "code",
   "execution_count": null,
   "metadata": {},
   "outputs": [],
   "source": [
    "# rm will delete a file, you can use globs\n",
    "rm a/b/c/d/e/file.txt"
   ]
  },
  {
   "cell_type": "code",
   "execution_count": null,
   "metadata": {},
   "outputs": [],
   "source": [
    "mkdir deleteme{10..12}\n",
    "ls delete*\n",
    "\n",
    "rm delete*"
   ]
  },
  {
   "cell_type": "code",
   "execution_count": null,
   "metadata": {},
   "outputs": [],
   "source": [
    "# if you use the -r option it will delete a directory and its contents\n",
    "# be really careful with this. I strongly recommend using echo followed by the glob to \n",
    "# check that your glob matches only the things you want to delete, or else use rm -i to \n",
    "# delete interactively\n",
    "\n",
    "echo deletem*\n",
    "\n",
    "rm -rf deletem*\n",
    "ls"
   ]
  },
  {
   "cell_type": "markdown",
   "metadata": {},
   "source": [
    "# mv\n",
    "move or rename a file"
   ]
  },
  {
   "cell_type": "code",
   "execution_count": null,
   "metadata": {},
   "outputs": [],
   "source": [
    "# create multiple folders at once\n",
    "mkdir start end\n",
    "ls -l start end"
   ]
  },
  {
   "cell_type": "code",
   "execution_count": null,
   "metadata": {},
   "outputs": [],
   "source": [
    "# create a file in the start folder\n",
    "touch start/newFile\n",
    "ls *"
   ]
  },
  {
   "cell_type": "code",
   "execution_count": null,
   "metadata": {},
   "outputs": [],
   "source": [
    "# move the file\n",
    "mv start/newFile end\n",
    "ls *"
   ]
  },
  {
   "cell_type": "code",
   "execution_count": null,
   "metadata": {},
   "outputs": [],
   "source": [
    "# delete a file\n",
    "\n",
    "rm end/newFile\n",
    "\n",
    "tree end"
   ]
  },
  {
   "cell_type": "markdown",
   "metadata": {},
   "source": [
    "# process in background and foreground (fg and bg)"
   ]
  },
  {
   "cell_type": "code",
   "execution_count": null,
   "metadata": {},
   "outputs": [],
   "source": [
    "# running a process from the command line launches it in the foreground by default\n",
    "# This means that it will lock the command prompt until the process ends\n",
    "\n",
    "# The next command will block the command-line until you close gedit\n",
    "gedit"
   ]
  },
  {
   "cell_type": "code",
   "execution_count": null,
   "metadata": {},
   "outputs": [],
   "source": [
    "# you can open a process in the background by following the command with an ampersand (&)\n",
    "# Thie will also display the process if (pid) of the process\n",
    "gedit &"
   ]
  },
  {
   "cell_type": "code",
   "execution_count": null,
   "metadata": {},
   "outputs": [],
   "source": [
    "# you can use the pid as an argument to the kill command to kill the background process\n",
    "kill -9 2633"
   ]
  },
  {
   "cell_type": "raw",
   "metadata": {},
   "source": [
    "# alternatively you can bring the process to the foreground and end it from within the program itself.\n",
    "# This is best done from the command line rather than inside this notebook\n",
    "# note the pid that is displayed when you type 'gedit &' \n",
    "\n",
    "# Here are the commnands to type at the command line\n",
    "gedit &     # note the pid, \n",
    "fg pid\n",
    "close gedit as you normally would close an application"
   ]
  },
  {
   "cell_type": "markdown",
   "metadata": {},
   "source": [
    "# ps\n",
    "list the running processes"
   ]
  },
  {
   "cell_type": "code",
   "execution_count": null,
   "metadata": {},
   "outputs": [],
   "source": [
    "ps aux  # shows the running processes under the following headings\n",
    "# USER       PID %CPU %MEM    VSZ   RSS TTY      STAT START   TIME COMMAND"
   ]
  },
  {
   "cell_type": "code",
   "execution_count": null,
   "metadata": {},
   "outputs": [],
   "source": [
    "# ps defaults to displaying the process with the same userid and terminal id\n",
    "# In other words, if you run ps from two different terminal windows at the same time\n",
    "# you will see different answers\n",
    "\n",
    "# Note: pts is a pseudo terminal\n",
    "ps"
   ]
  },
  {
   "cell_type": "markdown",
   "metadata": {},
   "source": [
    "# kill\n",
    "The <em>kill</em> command kills a process, e.g.\n",
    "kill -9 pid # will immediately kill the specified pid"
   ]
  },
  {
   "cell_type": "code",
   "execution_count": null,
   "metadata": {},
   "outputs": [],
   "source": [
    "# In this module we will generally find the process id using grep as follows.\n",
    "# We will cover this in more detail over the coming weeks\n",
    "gedit\n",
    "ps aux|grep gedit   # You will be able to read the pid from the screen or select it\n",
    "                    # using the cut command.\n",
    "kill -9 the_pid"
   ]
  },
  {
   "cell_type": "markdown",
   "metadata": {},
   "source": [
    "# which\n",
    "<em>which</em> tells you the location of an executable "
   ]
  },
  {
   "cell_type": "code",
   "execution_count": null,
   "metadata": {},
   "outputs": [],
   "source": [
    "# which tells you the location of an executable \n",
    "which ls"
   ]
  },
  {
   "cell_type": "code",
   "execution_count": null,
   "metadata": {},
   "outputs": [],
   "source": [
    "which pwd"
   ]
  },
  {
   "cell_type": "code",
   "execution_count": null,
   "metadata": {},
   "outputs": [],
   "source": [
    "which [          # [ is a bash program, it tests if something is true or false"
   ]
  },
  {
   "cell_type": "markdown",
   "metadata": {},
   "source": [
    "# cat\n",
    "**cat filename** concatenates file(s) and displays the on standard output. We will use it to create templates for a webpage"
   ]
  },
  {
   "cell_type": "code",
   "execution_count": null,
   "metadata": {},
   "outputs": [],
   "source": [
    "# the following displays all the html text (the text between the two EOF's) to the screen\n",
    "cat << EOF\n",
    "<html>\n",
    " <head>\n",
    "   <title></title>\n",
    " </head>\n",
    " <body>\n",
    " </body>\n",
    "</html>\n",
    "EOF"
   ]
  },
  {
   "cell_type": "markdown",
   "metadata": {
    "collapsed": true
   },
   "source": [
    "### Exercises\n",
    "##### Assuming you are starting in your home folder\n",
    "1. In a single statement, create three subfolders of the current folder called sub1, sub2, and sub3\n",
    "2. change directory into root and issue a command that proves you are in root\n",
    "3. write a command that takes you from root to home folder without typing the path to the home folder\n",
    "4. What is the absoolute path to your home folder\n",
    "5. change directory to the sub1 folder\n",
    "6. what two items are the only contents of the home folder\n",
    "7. from the sub1 folder, create a file in the sub2 folder, without changing into the sub2 folder\n",
    "8. From sub1, issue a command that lists the entire contents of sub2\n",
    "9. from sub1, create a hidden folder in sub3\n",
    "10. without changing into sub3 show its entire contents\n",
    "11. what does the command ps do?\n",
    "12. read the man pages for ps to determine what ps aux does\n",
    "13. Explain the 'which' command in bash\n",
    "14. What is the difference between 'gedit' and 'gedit &'\n",
    "15. When a command is issued with a trailing ampersand (&) a number is displayed on screen. What does the number represent.\n",
    "16. What does the 'kill' command do\n",
    "17. Explain how to kill a process in bash\n",
    "18. What is the difference between 'mkdir' and 'mkdir -p'\n",
    "19. What does the command pwd do\n",
    "20. What does the command 'cd $(which ls) do\n",
    "21. Explain the output of the command 'ls -al' in detail\n",
    "22. Why should you never iterate over files using the output of the ls command as follows:    \n",
    "    \n",
    "\n",
    "    for item in $(ls)     \n",
    "    do    \n",
    "        echo \"$item\"    \n",
    "    done"
   ]
  },
  {
   "cell_type": "code",
   "execution_count": null,
   "metadata": {},
   "outputs": [],
   "source": []
  }
 ],
 "metadata": {
  "anaconda-cloud": {},
  "kernelspec": {
   "display_name": "Bash",
   "language": "bash",
   "name": "bash"
  },
  "language_info": {
   "codemirror_mode": "shell",
   "file_extension": ".sh",
   "mimetype": "text/x-sh",
   "name": "bash"
  }
 },
 "nbformat": 4,
 "nbformat_minor": 2
}
